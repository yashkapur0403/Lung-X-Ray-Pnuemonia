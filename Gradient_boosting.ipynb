{
  "nbformat": 4,
  "nbformat_minor": 0,
  "metadata": {
    "colab": {
      "provenance": [],
      "authorship_tag": "ABX9TyOUzDkh4tD4V1Uo4b90OnGf",
      "include_colab_link": true
    },
    "kernelspec": {
      "name": "python3",
      "display_name": "Python 3"
    },
    "language_info": {
      "name": "python"
    }
  },
  "cells": [
    {
      "cell_type": "markdown",
      "metadata": {
        "id": "view-in-github",
        "colab_type": "text"
      },
      "source": [
        "<a href=\"https://colab.research.google.com/github/yashkapur0403/Lung-X-Ray-Pnuemonia/blob/main/Gradient_boosting.ipynb\" target=\"_parent\"><img src=\"https://colab.research.google.com/assets/colab-badge.svg\" alt=\"Open In Colab\"/></a>"
      ]
    },
    {
      "cell_type": "code",
      "execution_count": null,
      "metadata": {
        "colab": {
          "base_uri": "https://localhost:8080/"
        },
        "id": "JvWnToUN-DDR",
        "outputId": "0a16687c-ef1e-4a0e-cba1-c4148ec8622f"
      },
      "outputs": [
        {
          "output_type": "stream",
          "name": "stdout",
          "text": [
            "Drive already mounted at /content/drive; to attempt to forcibly remount, call drive.mount(\"/content/drive\", force_remount=True).\n"
          ]
        }
      ],
      "source": [
        "\n",
        "from google.colab import drive\n",
        "import zipfile, os, cv2\n",
        "import numpy as np\n",
        "\n",
        "drive.mount('/content/drive')  # allow permission\n",
        "zip_path = \"/content/drive/My Drive/Colab Notebooks/chest_xray.zip\"\n",
        "extract_path = \"/content/chest_xray\"\n",
        "with zipfile.ZipFile(zip_path, 'r') as zip_ref:\n",
        "    zip_ref.extractall(extract_path)\n",
        "\n",
        "# STEP 2: Load images and prepare data\n",
        "def load_images_from_folder(folder_path, label):\n",
        "    data = []\n",
        "    for filename in os.listdir(folder_path):\n",
        "        path = os.path.join(folder_path, filename)\n",
        "        img = cv2.imread(path, cv2.IMREAD_GRAYSCALE)\n",
        "        if img is not None:\n",
        "            img = cv2.resize(img, (64, 64))\n",
        "            img_flat = img.flatten() / 255.0\n",
        "            data.append((img_flat, label))\n",
        "    return data\n",
        "\n",
        "normal_data = load_images_from_folder(\"/content/chest_xray/chest_xray/train/NORMAL\", 0)\n",
        "pneumonia_data = load_images_from_folder(\"/content/chest_xray/chest_xray/train/PNEUMONIA\", 1)\n",
        "all_data = normal_data + pneumonia_data\n",
        "\n",
        "X_train = np.array([x for x, _ in all_data])\n",
        "y_train = np.array([y for _, y in all_data])\n",
        "\n",
        "normal_test = load_images_from_folder(\"/content/chest_xray/chest_xray/test/NORMAL\", 0)\n",
        "pneumonia_test = load_images_from_folder(\"/content/chest_xray/chest_xray/test/PNEUMONIA\", 1)\n",
        "all_test = normal_test + pneumonia_test\n",
        "\n",
        "X_test = np.array([x for x, _ in all_test])\n",
        "y_test = np.array([y for _, y in all_test])"
      ]
    },
    {
      "cell_type": "code",
      "source": [
        "# Sigmoid function\n",
        "def sigmoid(x):\n",
        "    return 1 / (1 + np.exp(-x))\n",
        "\n",
        "class GBMClassifier:\n",
        "    def __init__(self, n_estimators=50, learning_rate=0.1):\n",
        "        self.n_estimators = n_estimators\n",
        "        self.lr = learning_rate\n",
        "        self.models = []\n",
        "\n",
        "    def fit(self, X, y):\n",
        "        n_samples, n_features = X.shape\n",
        "        # Initial prediction: log(odds)\n",
        "        p = np.clip(np.mean(y), 1e-6, 1 - 1e-6)          #1e-6 is 0.00001 and 0.99999... to avoid extreme probab 0 and 1(log undefined)\n",
        "        F = np.full(n_samples, np.log(p / (1 - p)))      #base probab ie log of odds\n",
        "\n",
        "        for _ in range(self.n_estimators):      # estimator means  how much boosting steps (trees) required\n",
        "            a = sigmoid(F)                      # F is passed through sigmoid to get log of odds\n",
        "            residuals = y - a                   # residuals\n",
        "\n",
        "            # slump tree making\n",
        "            best_feat, best_thresh, best_gain = None, None, -np.inf      # finding best stump\n",
        "            for f in range(n_features):\n",
        "                thresholds = np.linspace(np.min(X[:, f]), np.max(X[:, f]), 10)[1:-1]     # trying only 10 thresholds to avoid unnec time & avoid overfitting\n",
        "                for t in thresholds:\n",
        "                    left = residuals[X[:, f] <= t]\n",
        "                    right = residuals[X[:, f] > t]\n",
        "                    if len(left) == 0 or len(right) == 0:\n",
        "                        continue\n",
        "                    gain = np.abs(left.sum()) + np.abs(right.sum())   # np.abs is to make abolute value for an integer (remove sign)\n",
        "                    if gain > best_gain:\n",
        "                        best_feat, best_thresh = f, t\n",
        "                        best_gain = gain\n",
        "\n",
        "            left_idx = X[:, best_feat] <= best_thresh\n",
        "            right_idx = ~left_idx\n",
        "\n",
        "            r_left, a_left = residuals[left_idx], a[left_idx]\n",
        "            r_right, a_right = residuals[right_idx], a[right_idx]\n",
        "\n",
        "            # Newton-Raphson formula to transform the output of leaf nodes\n",
        "            gamma_left = np.sum(r_left) / (np.sum(a_left * (1 - a_left)) + 1e-8)\n",
        "            gamma_right = np.sum(r_right) / (np.sum(a_right * (1 - a_right)) + 1e-8)\n",
        "\n",
        "            F[left_idx] += self.lr * gamma_left        #continue updating for all estimaators\n",
        "            F[right_idx] += self.lr * gamma_right\n",
        "\n",
        "            self.models.append((best_feat, best_thresh, gamma_left, gamma_right))   # apend in vari. \"model\" so twe can use it in def predict_probab\n",
        "\n",
        "    # this is for test_data kyuki upar ka fit is for train_data, isko test_data se compare karenge\n",
        "    def predict_proba(self, X):\n",
        "        F = np.zeros(X.shape[0])\n",
        "        for feat, thresh, gamma_left, gamma_right in self.models:\n",
        "            left = X[:, feat] <= thresh\n",
        "            right = ~left\n",
        "            F[left] += self.lr * gamma_left           # final shrinkage added directly for left and right node seprately\n",
        "            F[right] += self.lr * gamma_right\n",
        "        return sigmoid(F)                            # returns final prbab for, which is passed onto def predict, which tells if > than 0.5 or not\n",
        "    def predict(self, X):\n",
        "        return (self.predict_proba(X) >= 0.5).astype(int)\n"
      ],
      "metadata": {
        "id": "Zt3uIRFd-NAZ"
      },
      "execution_count": null,
      "outputs": []
    },
    {
      "cell_type": "code",
      "source": [],
      "metadata": {
        "id": "z-aSnxl_-rMc"
      },
      "execution_count": null,
      "outputs": []
    },
    {
      "cell_type": "code",
      "source": [
        "# dont think much of this cell... this only imports sklearn to predict accuracy for out model\n",
        "\n",
        "from sklearn.metrics import accuracy_score\n",
        "\n",
        "# Training the GBM model\n",
        "model123 = GBMClassifier(n_estimators=50, learning_rate=0.1)\n",
        "model123.fit(X_train, y_train)\n",
        "\n",
        "# Predict\n",
        "acc = accuracy_score(y_test, model123.predict(X_test))\n",
        "acc1 = accuracy_score(y_train, model123.predict(X_train))\n",
        "\n",
        "print(f\"Training Accuracy: {acc1 * 100: }%\")\n",
        "print(f\"Test Accuracy: {acc * 100: }%\")\n"
      ],
      "metadata": {
        "colab": {
          "base_uri": "https://localhost:8080/"
        },
        "id": "RFgAxypv-brR",
        "outputId": "b2eca32b-67c1-4e8b-bc13-29ccbf3b3a73"
      },
      "execution_count": null,
      "outputs": [
        {
          "output_type": "stream",
          "name": "stdout",
          "text": [
            "Training Accuracy:  87.68227168073676%\n",
            "Test Accuracy:  79.96794871794873%\n"
          ]
        }
      ]
    },
    {
      "cell_type": "code",
      "source": [
        "from sklearn.ensemble import GradientBoostingClassifier\n",
        "\n",
        "sk_model = GradientBoostingClassifier()\n",
        "sk_model.fit(X_train, y_train)\n",
        "print(\"Sklearn Test Accuracy:\", sk_model.score(X_test, y_test))\n"
      ],
      "metadata": {
        "colab": {
          "base_uri": "https://localhost:8080/"
        },
        "id": "gntmlhMxMX2i",
        "outputId": "c765a13a-e226-4b6f-f719-35f0a4df8e1c"
      },
      "execution_count": null,
      "outputs": [
        {
          "output_type": "stream",
          "name": "stdout",
          "text": [
            "Sklearn Test Accuracy: 0.717948717948718\n"
          ]
        }
      ]
    }
  ]
}