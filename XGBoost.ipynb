{
  "nbformat": 4,
  "nbformat_minor": 0,
  "metadata": {
    "colab": {
      "provenance": [],
      "authorship_tag": "ABX9TyNA4T+Ztg7eskfBdlc7RyEv",
      "include_colab_link": true
    },
    "kernelspec": {
      "name": "python3",
      "display_name": "Python 3"
    },
    "language_info": {
      "name": "python"
    }
  },
  "cells": [
    {
      "cell_type": "markdown",
      "metadata": {
        "id": "view-in-github",
        "colab_type": "text"
      },
      "source": [
        "<a href=\"https://colab.research.google.com/github/yashkapur0403/Neural-Networks-Practise/blob/main/XGBoost.ipynb\" target=\"_parent\"><img src=\"https://colab.research.google.com/assets/colab-badge.svg\" alt=\"Open In Colab\"/></a>"
      ]
    },
    {
      "cell_type": "code",
      "execution_count": 2,
      "metadata": {
        "colab": {
          "base_uri": "https://localhost:8080/"
        },
        "id": "n9l-kBWIyZm5",
        "outputId": "5190efb6-cde0-4836-cbbb-a369c5cb1a69"
      },
      "outputs": [
        {
          "output_type": "stream",
          "name": "stdout",
          "text": [
            "Mounted at /content/drive\n"
          ]
        }
      ],
      "source": [
        "\n",
        "from google.colab import drive\n",
        "import zipfile, os, cv2\n",
        "import numpy as np\n",
        "\n",
        "drive.mount('/content/drive')  # allow permission\n",
        "zip_path = \"/content/drive/My Drive/Colab Notebooks/chest_xray.zip\"\n",
        "extract_path = \"/content/chest_xray\"\n",
        "with zipfile.ZipFile(zip_path, 'r') as zip_ref:\n",
        "    zip_ref.extractall(extract_path)\n",
        "\n",
        "# STEP 2: Load images and prepare data\n",
        "def load_images_from_folder(folder_path, label):\n",
        "    data = []\n",
        "    for filename in os.listdir(folder_path):\n",
        "        path = os.path.join(folder_path, filename)\n",
        "        img = cv2.imread(path, cv2.IMREAD_GRAYSCALE)\n",
        "        if img is not None:\n",
        "            img = cv2.resize(img, (64, 64))\n",
        "            img_flat = img.flatten() / 255.0\n",
        "            data.append((img_flat, label))\n",
        "    return data\n",
        "\n",
        "normal_data = load_images_from_folder(\"/content/chest_xray/chest_xray/train/NORMAL\", 0)\n",
        "pneumonia_data = load_images_from_folder(\"/content/chest_xray/chest_xray/train/PNEUMONIA\", 1)\n",
        "all_data = normal_data + pneumonia_data\n",
        "\n",
        "X_train = np.array([x for x, _ in all_data])\n",
        "y_train = np.array([y for _, y in all_data])\n",
        "\n",
        "normal_test = load_images_from_folder(\"/content/chest_xray/chest_xray/test/NORMAL\", 0)\n",
        "pneumonia_test = load_images_from_folder(\"/content/chest_xray/chest_xray/test/PNEUMONIA\", 1)\n",
        "all_test = normal_test + pneumonia_test\n",
        "\n",
        "X_test = np.array([x for x, _ in all_test])\n",
        "y_test = np.array([y for _, y in all_test])"
      ]
    },
    {
      "cell_type": "code",
      "source": [
        "import numpy as np\n",
        "\n",
        "def sigmoid(x):\n",
        "    return 1 / (1 + np.exp(-x))\n",
        "\n",
        "class XGBoostSimple:\n",
        "    def __init__(self, n_estimators=50, learning_rate=0.1, reg_lambda=0.1):\n",
        "        self.n_estimators = n_estimators\n",
        "        self.lr = learning_rate\n",
        "        self.reg_lambda = reg_lambda\n",
        "        self.models = []\n",
        "\n",
        "    def fit(self, X, y):\n",
        "        n_samples, n_features = X.shape\n",
        "        pos_ratio = np.clip(np.mean(y), 1e-6, 1 - 1e-6)\n",
        "        F = np.full(n_samples, np.log(pos_ratio / (1 - pos_ratio)))\n",
        "\n",
        "        for _ in range(self.n_estimators):\n",
        "            prob = sigmoid(F)\n",
        "            g = prob - y\n",
        "            h = prob * (1 - prob)\n",
        "\n",
        "            best_feat, best_thresh, best_gain = None, None, -np.inf\n",
        "\n",
        "            for feat in range(n_features):\n",
        "                thresholds = np.linspace(X[:, feat].min(), X[:, feat].max(), 10)[1:-1]\n",
        "                for t in thresholds:\n",
        "                    left = X[:, feat] <= t\n",
        "                    right = ~left\n",
        "\n",
        "                    if left.sum() == 0 or right.sum() == 0:\n",
        "                        continue\n",
        "\n",
        "                    G_L = np.sum(g[left])\n",
        "                    H_L = np.sum(h[left])\n",
        "                    G_R = np.sum(g[right])\n",
        "                    H_R = np.sum(h[right])\n",
        "                    G = np.sum(g)\n",
        "                    H = np.sum(h)\n",
        "\n",
        "                    gain = 0.5 * (\n",
        "                        (G_L ** 2) / (H_L + self.reg_lambda) +\n",
        "                        (G_R ** 2) / (H_R + self.reg_lambda) -\n",
        "                        (G ** 2) / (H + self.reg_lambda)\n",
        "                    )\n",
        "\n",
        "                    if gain > best_gain:\n",
        "                        best_feat = feat\n",
        "                        best_thresh = t\n",
        "                        best_gain = gain\n",
        "\n",
        "            left_idx = X[:, best_feat] <= best_thresh\n",
        "            right_idx = ~left_idx\n",
        "\n",
        "            G_L = np.sum(g[left_idx])\n",
        "            H_L = np.sum(h[left_idx])\n",
        "            G_R = np.sum(g[right_idx])\n",
        "            H_R = np.sum(h[right_idx])\n",
        "\n",
        "            gamma_L = -G_L / (H_L + self.reg_lambda)\n",
        "            gamma_R = -G_R / (H_R + self.reg_lambda)\n",
        "\n",
        "            F[left_idx] += self.lr * gamma_L\n",
        "            F[right_idx] += self.lr * gamma_R\n",
        "\n",
        "            self.models.append((best_feat, best_thresh, gamma_L, gamma_R))\n",
        "\n",
        "    def predict_proba(self, X):\n",
        "        F = np.zeros(X.shape[0])\n",
        "        for feat, thresh, gamma_L, gamma_R in self.models:\n",
        "            left = X[:, feat] <= thresh\n",
        "            right = ~left\n",
        "            F[left] += self.lr * gamma_L\n",
        "            F[right] += self.lr * gamma_R\n",
        "        return sigmoid(F)\n",
        "\n",
        "    def predict(self, X):\n",
        "        return (self.predict_proba(X) >= 0.5).astype(int)\n"
      ],
      "metadata": {
        "id": "3P2YB1EO5t3Q"
      },
      "execution_count": null,
      "outputs": []
    },
    {
      "cell_type": "code",
      "source": [
        "from sklearn.metrics import accuracy_score\n",
        "\n",
        "model = XGBoostSimple(n_estimators=100, learning_rate=0.1)\n",
        "model.fit(X_train, y_train)\n",
        "\n",
        "y_pred = model.predict(X_test)\n",
        "print(\"Test Accuracy:\", accuracy_score(y_test, y_pred))\n",
        "\n",
        "print(\"Train Accuracy:\", accuracy_score(y_train, model.predict(X_train)))"
      ],
      "metadata": {
        "colab": {
          "base_uri": "https://localhost:8080/"
        },
        "id": "tz0KX0zN_hZy",
        "outputId": "e51aa662-2c55-4d66-910e-03a6604964cb"
      },
      "execution_count": null,
      "outputs": [
        {
          "output_type": "stream",
          "name": "stdout",
          "text": [
            "Test Accuracy: 0.7852564102564102\n",
            "Train Accuracy: 0.9173062164236377\n"
          ]
        }
      ]
    },
    {
      "cell_type": "code",
      "source": [
        "from xgboost import XGBClassifier\n",
        "from sklearn.metrics import accuracy_score\n",
        "\n",
        "model = XGBClassifier()\n",
        "model.fit(X_train, y_train)\n",
        "y_pred = model.predict(X_test)\n",
        "print(\"Sklearn XGBoost Test Accuracy:\", accuracy_score(y_test, y_pred))\n"
      ],
      "metadata": {
        "colab": {
          "base_uri": "https://localhost:8080/"
        },
        "id": "w22xJ9qDM2A2",
        "outputId": "2896d289-621c-4b34-82c5-d284d7132bcd"
      },
      "execution_count": 4,
      "outputs": [
        {
          "output_type": "stream",
          "name": "stdout",
          "text": [
            "Sklearn XGBoost Test Accuracy: 0.7275641025641025\n"
          ]
        }
      ]
    }
  ]
}