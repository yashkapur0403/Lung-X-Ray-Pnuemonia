{
  "nbformat": 4,
  "nbformat_minor": 0,
  "metadata": {
    "colab": {
      "provenance": [],
      "authorship_tag": "ABX9TyP0nW9JsmACqp3yZBS3PzuB",
      "include_colab_link": true
    },
    "kernelspec": {
      "name": "python3",
      "display_name": "Python 3"
    },
    "language_info": {
      "name": "python"
    }
  },
  "cells": [
    {
      "cell_type": "markdown",
      "metadata": {
        "id": "view-in-github",
        "colab_type": "text"
      },
      "source": [
        "<a href=\"https://colab.research.google.com/github/yashkapur0403/Neural-Networks-Practise/blob/main/logistic_regression_xray.ipynb\" target=\"_parent\"><img src=\"https://colab.research.google.com/assets/colab-badge.svg\" alt=\"Open In Colab\"/></a>"
      ]
    },
    {
      "cell_type": "code",
      "execution_count": 38,
      "metadata": {
        "id": "7aiq4TrHCAm8"
      },
      "outputs": [],
      "source": [
        "import os\n",
        "import cv2\n",
        "import numpy as np\n",
        "import zipfile\n",
        "\n",
        "# Unzip the dataset from Google Drive\n",
        "zip_path = \"/content/drive/My Drive/Colab Notebooks/chest_xray.zip\"\n",
        "extract_path = \"/content/chest_xray\"\n",
        "\n",
        "with zipfile.ZipFile(zip_path, 'r') as zip_ref:\n",
        "    zip_ref.extractall(extract_path)\n",
        "\n",
        "# Function to load images and labels\n",
        "def load_images_from_folder(folder_path, label):\n",
        "    data = []\n",
        "    for filename in os.listdir(folder_path):\n",
        "        img_path = os.path.join(folder_path, filename)\n",
        "        img = cv2.imread(img_path, cv2.IMREAD_GRAYSCALE)\n",
        "        if img is not None:\n",
        "            img = cv2.resize(img, (64, 64))          # Resize to 64x64\n",
        "            img_flat = img.flatten() / 255.0         # Normalize and flatten\n",
        "            data.append((img_flat, label))\n",
        "    return data"
      ]
    },
    {
      "cell_type": "code",
      "source": [
        "\n",
        "normal_data = load_images_from_folder(\"/content/chest_xray/chest_xray/train/NORMAL\", 0)\n",
        "pneumonia_data = load_images_from_folder(\"/content/chest_xray/chest_xray/train/PNEUMONIA\", 1)\n",
        "all_data = normal_data + pneumonia_data\n",
        "\n",
        "X_train = np.array([x for x, _ in all_data])\n",
        "y_train = np.array([y for _, y in all_data]).reshape(-1, 1)\n",
        "\n",
        "\n",
        "def sigmoid(z):\n",
        "    return 1 / (1 + np.exp(-z))\n",
        "\n",
        "def loss(y, a):\n",
        "    # Binary cross-entropy\n",
        "    return -np.mean(y * np.log(a) + (1 - y) * np.log(1 - a))\n",
        "\n",
        "def train(X, y, lr=0.01, epochs=100):\n",
        "    m, n = X.shape\n",
        "    w = np.zeros((n, 1))\n",
        "    b = 0\n",
        "\n",
        "    for epoch in range(epochs):\n",
        "        z = np.dot(X, w) + b\n",
        "        a = sigmoid(z)\n",
        "\n",
        "        dw = np.dot(X.T, (a - y)) / m\n",
        "        db = np.sum(a - y) / m\n",
        "\n",
        "        w -= lr * dw\n",
        "        b -= lr * db\n",
        "\n",
        "        if epoch % 10 == 0:\n",
        "            print(f\"Epoch {epoch}, Loss: {loss(y, a)}\")\n",
        "    return w, b\n"
      ],
      "metadata": {
        "id": "gqMiEhGABX4A"
      },
      "execution_count": 39,
      "outputs": []
    },
    {
      "cell_type": "code",
      "source": [
        "weights, bias = train(X_train, y_train, lr=0.01, epochs=100)\n",
        "\n",
        "def predict(X, w, b):\n",
        "    z = np.dot(X, w) + b\n",
        "    return (sigmoid(z) > 0.5).astype(int)\n",
        "\n",
        "#accuracy determining\n",
        "a = predict(X_train, weights, bias)\n",
        "accuracy = np.mean(a == y_train) * 100\n",
        "print(f\"Training Accuracy: {accuracy:}%\")\n"
      ],
      "metadata": {
        "id": "xFRxhTDBEux5",
        "colab": {
          "base_uri": "https://localhost:8080/"
        },
        "outputId": "6700619a-e284-42c6-e4b5-5b85bbcb53de"
      },
      "execution_count": 40,
      "outputs": [
        {
          "output_type": "stream",
          "name": "stdout",
          "text": [
            "Epoch 0, Loss: 0.6931471805599453\n",
            "Epoch 10, Loss: 0.5459928130165052\n",
            "Epoch 20, Loss: 0.5000304631982598\n",
            "Epoch 30, Loss: 0.4594497881763436\n",
            "Epoch 40, Loss: 0.4247242577529554\n",
            "Epoch 50, Loss: 0.39741883120986127\n",
            "Epoch 60, Loss: 0.37714286845423367\n",
            "Epoch 70, Loss: 0.3609670176731732\n",
            "Epoch 80, Loss: 0.34715508296476427\n",
            "Epoch 90, Loss: 0.3351257013027529\n",
            "Training Accuracy: 88.46891788181121%\n"
          ]
        }
      ]
    },
    {
      "cell_type": "code",
      "source": [
        "# Re-run this cell (alone) to re-mount\n",
        "from google.colab import drive\n",
        "drive.mount('/content/drive', force_remount=True)\n"
      ],
      "metadata": {
        "colab": {
          "base_uri": "https://localhost:8080/"
        },
        "id": "5xPoFt-ljRq6",
        "outputId": "016bd989-0fca-4adb-dac5-f50046b0e4db"
      },
      "execution_count": 41,
      "outputs": [
        {
          "output_type": "stream",
          "name": "stdout",
          "text": [
            "Mounted at /content/drive\n"
          ]
        }
      ]
    }
  ]
}