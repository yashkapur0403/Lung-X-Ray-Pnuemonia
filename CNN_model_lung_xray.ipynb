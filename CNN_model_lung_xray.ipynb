{
  "nbformat": 4,
  "nbformat_minor": 0,
  "metadata": {
    "colab": {
      "provenance": [],
      "gpuType": "T4",
      "authorship_tag": "ABX9TyOtnFGBfXWPmEAXCGRqGX4v",
      "include_colab_link": true
    },
    "kernelspec": {
      "name": "python3",
      "display_name": "Python 3"
    },
    "language_info": {
      "name": "python"
    },
    "accelerator": "GPU"
  },
  "cells": [
    {
      "cell_type": "markdown",
      "metadata": {
        "id": "view-in-github",
        "colab_type": "text"
      },
      "source": [
        "<a href=\"https://colab.research.google.com/github/yashkapur0403/Neural-Networks-Practise/blob/main/CNN_model_lung_xray.ipynb\" target=\"_parent\"><img src=\"https://colab.research.google.com/assets/colab-badge.svg\" alt=\"Open In Colab\"/></a>"
      ]
    },
    {
      "cell_type": "code",
      "execution_count": 6,
      "metadata": {
        "colab": {
          "base_uri": "https://localhost:8080/"
        },
        "id": "xEE98_FLX8lF",
        "outputId": "19b5ddbe-c909-40bf-f210-d871ab1bfa0f"
      },
      "outputs": [
        {
          "output_type": "stream",
          "name": "stdout",
          "text": [
            "Drive already mounted at /content/drive; to attempt to forcibly remount, call drive.mount(\"/content/drive\", force_remount=True).\n"
          ]
        }
      ],
      "source": [
        "from google.colab import drive\n",
        "import zipfile, os, cv2\n",
        "import numpy as np\n",
        "\n",
        "drive.mount('/content/drive')\n",
        "\n",
        "# allow permission\n",
        "zip_path = \"/content/drive/My Drive/Colab Notebooks/chest_xray.zip\"\n",
        "extract_path = \"/content/chest_xray\"\n",
        "with zipfile.ZipFile(zip_path, 'r') as zip_ref:\n",
        "    zip_ref.extractall(extract_path)\n",
        "\n",
        "# STEP 2: Load images and prepare data\n",
        "def load_images_from_folder(folder_path, label):\n",
        "    data = []\n",
        "    for filename in os.listdir(folder_path):\n",
        "        path = os.path.join(folder_path, filename)\n",
        "        img = cv2.imread(path, cv2.IMREAD_GRAYSCALE)\n",
        "        if img is not None:\n",
        "            img = cv2.resize(img, (64, 64))\n",
        "            img_flat = img.flatten() / 255.0\n",
        "            data.append((img_flat, label))\n",
        "    return data"
      ]
    },
    {
      "cell_type": "code",
      "source": [
        "import torch.nn as nn\n",
        "import torch.optim as optim\n",
        "from torchvision import datasets, transforms\n",
        "from torch.utils.data import DataLoader\n",
        "import os\n",
        "\n",
        "# Data loading\n",
        "transform = transforms.Compose([\n",
        "    transforms.Grayscale(),                # Convert to 1-channel\n",
        "    transforms.Resize((128, 128)),         # Resize images\n",
        "    transforms.ToTensor(),                 # Convert to tensor\n",
        "    transforms.Normalize((0.5,), (0.5,))   # Normalize to [-1, 1]\n",
        "])\n",
        "\n",
        "# Fix: Point to the train directory, not individual class folders\n",
        "train_dataset = datasets.ImageFolder(\"/content/chest_xray/chest_xray/train\", transform=transform)\n",
        "test_dataset = datasets.ImageFolder(\"/content/chest_xray/chest_xray/test\", transform=transform)\n",
        "\n",
        "train_loader = DataLoader(train_dataset, batch_size=32, shuffle=True)\n",
        "test_loader = DataLoader(test_dataset, batch_size=32)\n",
        "\n",
        "# CNN Model\n",
        "class SimpleCNN(nn.Module):\n",
        "    def __init__(self):\n",
        "        super(SimpleCNN, self).__init__()\n",
        "        self.conv_layer = nn.Sequential(\n",
        "            nn.Conv2d(1, 16, kernel_size=3, padding=1),  # [B, 16, 128, 128]\n",
        "            nn.ReLU(),\n",
        "            nn.MaxPool2d(2),                             # [B, 16, 64, 64]\n",
        "            nn.Conv2d(16, 32, kernel_size=3, padding=1), # [B, 32, 64, 64]\n",
        "            nn.ReLU(),\n",
        "            nn.MaxPool2d(2),                             # [B, 32, 32, 32]\n",
        "        )\n",
        "        self.fc_layer = nn.Sequential(\n",
        "            nn.Flatten(),\n",
        "            nn.Linear(32*32*32, 64),\n",
        "            nn.ReLU(),\n",
        "            nn.Linear(64, 1),\n",
        "            nn.Sigmoid()\n",
        "        )\n",
        "\n",
        "    def forward(self, x):\n",
        "        x = self.conv_layer(x)\n",
        "        x = self.fc_layer(x)\n",
        "        return x\n",
        "\n",
        "# Final training of model\n",
        "device = torch.device(\"cuda\" if torch.cuda.is_available() else \"cpu\")\n",
        "model = SimpleCNN().to(device)\n",
        "criterion = nn.BCELoss()\n",
        "optimizer = optim.Adam(model.parameters(), lr=0.001)\n",
        "\n",
        "for epoch in range(20):  # You can increase this\n",
        "    model.train()\n",
        "    total_loss = 0\n",
        "    for images, labels in train_loader:\n",
        "        images, labels = images.to(device), labels.float().unsqueeze(1).to(device)\n",
        "\n",
        "        optimizer.zero_grad()\n",
        "        outputs = model(images)\n",
        "        loss = criterion(outputs, labels)\n",
        "        loss.backward()\n",
        "        optimizer.step()\n",
        "        total_loss += loss.item()\n",
        "\n",
        "    print(f\"Epoch {epoch+1}, Loss: {total_loss / len(train_loader):.4f}\")\n",
        "\n",
        "#Accuracy\n",
        "model.eval()\n",
        "correct, total = 0, 0\n",
        "with torch.no_grad():\n",
        "    for images, labels in test_loader:\n",
        "        images, labels = images.to(device), labels.to(device)\n",
        "        outputs = model(images)\n",
        "        preds = (outputs >= 0.5).squeeze(1).int()\n",
        "        correct += (preds == labels).sum().item()\n",
        "        total += labels.size(0)\n",
        "\n",
        "print(f\"Test Accuracy: {correct / total * 100:.2f}%\")"
      ],
      "metadata": {
        "colab": {
          "base_uri": "https://localhost:8080/"
        },
        "id": "2yjpvNUIaOi0",
        "outputId": "b382aed1-cdff-4e69-9f45-d2065b93d1cc"
      },
      "execution_count": 7,
      "outputs": [
        {
          "output_type": "stream",
          "name": "stdout",
          "text": [
            "Epoch 1, Loss: 0.3340\n",
            "Epoch 2, Loss: 0.2275\n",
            "Epoch 3, Loss: 0.1982\n",
            "Epoch 4, Loss: 0.1733\n",
            "Epoch 5, Loss: 0.1514\n",
            "Epoch 6, Loss: 0.1417\n",
            "Epoch 7, Loss: 0.1257\n",
            "Epoch 8, Loss: 0.1114\n",
            "Epoch 9, Loss: 0.0992\n",
            "Epoch 10, Loss: 0.0880\n",
            "Epoch 11, Loss: 0.0781\n",
            "Epoch 12, Loss: 0.0735\n",
            "Epoch 13, Loss: 0.0681\n",
            "Epoch 14, Loss: 0.0633\n",
            "Epoch 15, Loss: 0.0555\n",
            "Epoch 16, Loss: 0.0469\n",
            "Epoch 17, Loss: 0.0431\n",
            "Epoch 18, Loss: 0.0386\n",
            "Epoch 19, Loss: 0.0357\n",
            "Epoch 20, Loss: 0.0332\n",
            "Test Accuracy: 73.72%\n"
          ]
        }
      ]
    }
  ]
}