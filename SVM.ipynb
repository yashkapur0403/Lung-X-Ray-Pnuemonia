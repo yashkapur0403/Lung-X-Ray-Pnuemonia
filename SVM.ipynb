{
  "nbformat": 4,
  "nbformat_minor": 0,
  "metadata": {
    "colab": {
      "provenance": [],
      "authorship_tag": "ABX9TyNDoQND/SiM0N8EOfT7Ceae",
      "include_colab_link": true
    },
    "kernelspec": {
      "name": "python3",
      "display_name": "Python 3"
    },
    "language_info": {
      "name": "python"
    }
  },
  "cells": [
    {
      "cell_type": "markdown",
      "metadata": {
        "id": "view-in-github",
        "colab_type": "text"
      },
      "source": [
        "<a href=\"https://colab.research.google.com/github/yashkapur0403/Neural-Networks-Practise/blob/main/SVM.ipynb\" target=\"_parent\"><img src=\"https://colab.research.google.com/assets/colab-badge.svg\" alt=\"Open In Colab\"/></a>"
      ]
    },
    {
      "cell_type": "code",
      "execution_count": 14,
      "metadata": {
        "id": "muHRg5zVCKgp"
      },
      "outputs": [],
      "source": [
        "import os\n",
        "import numpy as np\n",
        "import cv2\n",
        "import zipfile\n",
        "from sklearn.model_selection import train_test_split\n",
        "\n",
        "# Unzip the dataset from Google Drive\n",
        "zip_path = \"/content/drive/My Drive/Colab Notebooks/chest_xray.zip\"\n",
        "extract_path = \"/content/chest_xray\"\n",
        "\n",
        "with zipfile.ZipFile(zip_path, 'r') as zip_ref:\n",
        "    zip_ref.extractall(extract_path)\n",
        "\n",
        "# Function to load images and labels\n",
        "def load_images_from_folder(folder_path, label):\n",
        "    data = []\n",
        "    for filename in os.listdir(folder_path):\n",
        "        img_path = os.path.join(folder_path, filename)\n",
        "        img = cv2.imread(img_path, cv2.IMREAD_GRAYSCALE)\n",
        "        if img is not None:\n",
        "            img = cv2.resize(img, (64, 64))          # Resize to 64x64\n",
        "            img_flat = img.flatten() / 255.0         # Normalize and flatten\n",
        "            data.append((img_flat, label))\n",
        "    return data\n",
        "\n",
        "normal_data  = load_images_from_folder(\"/content/chest_xray/chest_xray/train/NORMAL\", 0)\n",
        "pneumonia_data = load_images_from_folder(\"/content/chest_xray/chest_xray/train/PNEUMONIA\", 1)\n",
        "all_data = normal_data + pneumonia_data\n",
        "np.random.shuffle(all_data)\n",
        "\n",
        "X = np.array([item[0] for item in all_data])\n",
        "y = np.array([item[1] for item in all_data])\n",
        "\n",
        "X_train, X_test, y_train, y_test = train_test_split(X, y, test_size=0.2, random_state=42)\n"
      ]
    },
    {
      "cell_type": "code",
      "source": [
        "class SimpleSVM:\n",
        "    def __init__(self, learning_rate=0.001, lambda_param=0.01, epochs=1000):\n",
        "        self.lr = learning_rate\n",
        "        self.lambda_param = lambda_param\n",
        "        self.epochs = epochs\n",
        "        self.weights = None\n",
        "        self.bias = 0\n",
        "\n",
        "    def fit(self, X, y):\n",
        "        num_samples, num_features = X.shape\n",
        "        y_copy = np.where(y == 0, -1, 1)  # convert 0 to -1 for SVM\n",
        "\n",
        "        self.weights = np.zeros(num_features)\n",
        "\n",
        "        for epoch in range(self.epochs):\n",
        "            for i in range(num_samples):\n",
        "                x_i = X[i]\n",
        "                condition = y_copy[i] * (np.dot(x_i, self.weights) + self.bias)\n",
        "\n",
        "                if condition >= 1:\n",
        "                    self.weights -= self.lr * self.lambda_param * self.weights\n",
        "                else:\n",
        "                    self.weights -= self.lr * (self.lambda_param * self.weights - y_copy[i] * x_i)\n",
        "                    self.bias -= self.lr * (-y_copy[i])\n",
        "\n",
        "            if epoch % 100 == 0:\n",
        "              print(f\"Epoch {epoch}/{self.epochs}\")\n",
        "\n",
        "    def predict(self, X):\n",
        "        linear_output = np.dot(X, self.weights) + self.bias\n",
        "        return np.where(linear_output >= 0, 1, 0)\n",
        "\n",
        "\n",
        "svm = SimpleSVM(learning_rate=0.001, lambda_param=0.01, epochs=1000)\n",
        "svm.fit(X_train, y_train)\n",
        "predictions = svm.predict(X_test)\n",
        "\n",
        "accuracy = np.mean(predictions == y_test)\n",
        "print(f\"Test Accuracy: {accuracy * 100:.2f}%\")"
      ],
      "metadata": {
        "colab": {
          "base_uri": "https://localhost:8080/"
        },
        "id": "IALg6s_AXqDO",
        "outputId": "a7c6dcc6-7ca9-4a6a-bbbe-841a57f259eb"
      },
      "execution_count": 15,
      "outputs": [
        {
          "output_type": "stream",
          "name": "stdout",
          "text": [
            "Epoch 0/1000\n",
            "Epoch 100/1000\n",
            "Epoch 200/1000\n",
            "Epoch 300/1000\n",
            "Epoch 400/1000\n",
            "Epoch 500/1000\n",
            "Epoch 600/1000\n",
            "Epoch 700/1000\n",
            "Epoch 800/1000\n",
            "Epoch 900/1000\n",
            "Test Accuracy: 93.29%\n"
          ]
        }
      ]
    },
    {
      "cell_type": "code",
      "source": [
        "# Re-run this cell (alone) to re-mount\n",
        "from google.colab import drive\n",
        "drive.mount('/content/drive', force_remount=True)\n"
      ],
      "metadata": {
        "colab": {
          "base_uri": "https://localhost:8080/"
        },
        "id": "GWTcZZa7Yj-1",
        "outputId": "528e4f4b-5300-4da7-ab97-a327f7a0e3f8"
      },
      "execution_count": 16,
      "outputs": [
        {
          "output_type": "stream",
          "name": "stdout",
          "text": [
            "Mounted at /content/drive\n"
          ]
        }
      ]
    }
  ]
}